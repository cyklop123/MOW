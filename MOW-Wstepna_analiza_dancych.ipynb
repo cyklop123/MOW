{
 "cells": [
  {
   "cell_type": "markdown",
   "metadata": {},
   "source": [
    "# 1. Zbiór danych\n",
    "<p>\n",
    "Zbiór danych dotyczący zdatności wody do picia. Zawiera 20 cech, które przedstawiają zawartość poszczególnych związków chemicznych, pierwiastków i mikroorganizmów oraz cechę określającą zdatność do spożycia.\n",
    "</p>\n",
    "https://www.kaggle.com/mssmartypants/water-quality"
   ]
  },
  {
   "cell_type": "markdown",
   "metadata": {},
   "source": [
    "## Wczytanie zbioru"
   ]
  },
  {
   "cell_type": "code",
   "execution_count": 1,
   "metadata": {},
   "outputs": [
    {
     "data": {
      "text/html": [
       "<div>\n",
       "<style scoped>\n",
       "    .dataframe tbody tr th:only-of-type {\n",
       "        vertical-align: middle;\n",
       "    }\n",
       "\n",
       "    .dataframe tbody tr th {\n",
       "        vertical-align: top;\n",
       "    }\n",
       "\n",
       "    .dataframe thead th {\n",
       "        text-align: right;\n",
       "    }\n",
       "</style>\n",
       "<table border=\"1\" class=\"dataframe\">\n",
       "  <thead>\n",
       "    <tr style=\"text-align: right;\">\n",
       "      <th></th>\n",
       "      <th>aluminium</th>\n",
       "      <th>ammonia</th>\n",
       "      <th>arsenic</th>\n",
       "      <th>barium</th>\n",
       "      <th>cadmium</th>\n",
       "      <th>chloramine</th>\n",
       "      <th>chromium</th>\n",
       "      <th>copper</th>\n",
       "      <th>flouride</th>\n",
       "      <th>bacteria</th>\n",
       "      <th>...</th>\n",
       "      <th>lead</th>\n",
       "      <th>nitrates</th>\n",
       "      <th>nitrites</th>\n",
       "      <th>mercury</th>\n",
       "      <th>perchlorate</th>\n",
       "      <th>radium</th>\n",
       "      <th>selenium</th>\n",
       "      <th>silver</th>\n",
       "      <th>uranium</th>\n",
       "      <th>is_safe</th>\n",
       "    </tr>\n",
       "  </thead>\n",
       "  <tbody>\n",
       "    <tr>\n",
       "      <th>0</th>\n",
       "      <td>1.65</td>\n",
       "      <td>9.08</td>\n",
       "      <td>0.04</td>\n",
       "      <td>2.85</td>\n",
       "      <td>0.007</td>\n",
       "      <td>0.35</td>\n",
       "      <td>0.83</td>\n",
       "      <td>0.17</td>\n",
       "      <td>0.05</td>\n",
       "      <td>0.20</td>\n",
       "      <td>...</td>\n",
       "      <td>0.054</td>\n",
       "      <td>16.08</td>\n",
       "      <td>1.13</td>\n",
       "      <td>0.007</td>\n",
       "      <td>37.75</td>\n",
       "      <td>6.78</td>\n",
       "      <td>0.08</td>\n",
       "      <td>0.34</td>\n",
       "      <td>0.02</td>\n",
       "      <td>1</td>\n",
       "    </tr>\n",
       "    <tr>\n",
       "      <th>1</th>\n",
       "      <td>2.32</td>\n",
       "      <td>21.16</td>\n",
       "      <td>0.01</td>\n",
       "      <td>3.31</td>\n",
       "      <td>0.002</td>\n",
       "      <td>5.28</td>\n",
       "      <td>0.68</td>\n",
       "      <td>0.66</td>\n",
       "      <td>0.90</td>\n",
       "      <td>0.65</td>\n",
       "      <td>...</td>\n",
       "      <td>0.100</td>\n",
       "      <td>2.01</td>\n",
       "      <td>1.93</td>\n",
       "      <td>0.003</td>\n",
       "      <td>32.26</td>\n",
       "      <td>3.21</td>\n",
       "      <td>0.08</td>\n",
       "      <td>0.27</td>\n",
       "      <td>0.05</td>\n",
       "      <td>1</td>\n",
       "    </tr>\n",
       "    <tr>\n",
       "      <th>2</th>\n",
       "      <td>1.01</td>\n",
       "      <td>14.02</td>\n",
       "      <td>0.04</td>\n",
       "      <td>0.58</td>\n",
       "      <td>0.008</td>\n",
       "      <td>4.24</td>\n",
       "      <td>0.53</td>\n",
       "      <td>0.02</td>\n",
       "      <td>0.99</td>\n",
       "      <td>0.05</td>\n",
       "      <td>...</td>\n",
       "      <td>0.078</td>\n",
       "      <td>14.16</td>\n",
       "      <td>1.11</td>\n",
       "      <td>0.006</td>\n",
       "      <td>50.28</td>\n",
       "      <td>7.07</td>\n",
       "      <td>0.07</td>\n",
       "      <td>0.44</td>\n",
       "      <td>0.01</td>\n",
       "      <td>0</td>\n",
       "    </tr>\n",
       "    <tr>\n",
       "      <th>3</th>\n",
       "      <td>1.36</td>\n",
       "      <td>11.33</td>\n",
       "      <td>0.04</td>\n",
       "      <td>2.96</td>\n",
       "      <td>0.001</td>\n",
       "      <td>7.23</td>\n",
       "      <td>0.03</td>\n",
       "      <td>1.66</td>\n",
       "      <td>1.08</td>\n",
       "      <td>0.71</td>\n",
       "      <td>...</td>\n",
       "      <td>0.016</td>\n",
       "      <td>1.41</td>\n",
       "      <td>1.29</td>\n",
       "      <td>0.004</td>\n",
       "      <td>9.12</td>\n",
       "      <td>1.72</td>\n",
       "      <td>0.02</td>\n",
       "      <td>0.45</td>\n",
       "      <td>0.05</td>\n",
       "      <td>1</td>\n",
       "    </tr>\n",
       "    <tr>\n",
       "      <th>4</th>\n",
       "      <td>0.92</td>\n",
       "      <td>24.33</td>\n",
       "      <td>0.03</td>\n",
       "      <td>0.20</td>\n",
       "      <td>0.006</td>\n",
       "      <td>2.67</td>\n",
       "      <td>0.69</td>\n",
       "      <td>0.57</td>\n",
       "      <td>0.61</td>\n",
       "      <td>0.13</td>\n",
       "      <td>...</td>\n",
       "      <td>0.117</td>\n",
       "      <td>6.74</td>\n",
       "      <td>1.11</td>\n",
       "      <td>0.003</td>\n",
       "      <td>16.90</td>\n",
       "      <td>2.41</td>\n",
       "      <td>0.02</td>\n",
       "      <td>0.06</td>\n",
       "      <td>0.02</td>\n",
       "      <td>1</td>\n",
       "    </tr>\n",
       "  </tbody>\n",
       "</table>\n",
       "<p>5 rows × 21 columns</p>\n",
       "</div>"
      ],
      "text/plain": [
       "   aluminium  ammonia  arsenic  barium  cadmium  chloramine  chromium  copper  \\\n",
       "0       1.65     9.08     0.04    2.85    0.007        0.35      0.83    0.17   \n",
       "1       2.32    21.16     0.01    3.31    0.002        5.28      0.68    0.66   \n",
       "2       1.01    14.02     0.04    0.58    0.008        4.24      0.53    0.02   \n",
       "3       1.36    11.33     0.04    2.96    0.001        7.23      0.03    1.66   \n",
       "4       0.92    24.33     0.03    0.20    0.006        2.67      0.69    0.57   \n",
       "\n",
       "   flouride  bacteria  ...   lead  nitrates  nitrites  mercury  perchlorate  \\\n",
       "0      0.05      0.20  ...  0.054     16.08      1.13    0.007        37.75   \n",
       "1      0.90      0.65  ...  0.100      2.01      1.93    0.003        32.26   \n",
       "2      0.99      0.05  ...  0.078     14.16      1.11    0.006        50.28   \n",
       "3      1.08      0.71  ...  0.016      1.41      1.29    0.004         9.12   \n",
       "4      0.61      0.13  ...  0.117      6.74      1.11    0.003        16.90   \n",
       "\n",
       "   radium  selenium  silver  uranium  is_safe  \n",
       "0    6.78      0.08    0.34     0.02        1  \n",
       "1    3.21      0.08    0.27     0.05        1  \n",
       "2    7.07      0.07    0.44     0.01        0  \n",
       "3    1.72      0.02    0.45     0.05        1  \n",
       "4    2.41      0.02    0.06     0.02        1  \n",
       "\n",
       "[5 rows x 21 columns]"
      ]
     },
     "execution_count": 1,
     "metadata": {},
     "output_type": "execute_result"
    }
   ],
   "source": [
    "import pandas as pd\n",
    "import numpy as np\n",
    "from sklearn import preprocessing\n",
    "import matplotlib.pyplot as plt\n",
    "\n",
    "data = pd.read_csv('datasets/waterQuality1.csv', delimiter=',')\n",
    "data = data[data.is_safe != '#NUM!']\n",
    "data = data[data.ammonia != '#NUM!']\n",
    "data['ammonia'] = pd.to_numeric(data['ammonia'])\n",
    "data.head()"
   ]
  },
  {
   "cell_type": "markdown",
   "metadata": {},
   "source": [
    "## Usuwanie losowych wartości"
   ]
  },
  {
   "cell_type": "code",
   "execution_count": null,
   "metadata": {},
   "outputs": [],
   "source": [
    "for index, row in data.iterrows():\n",
    "    if index % 10 == 0:\n",
    "        random_col = np.random.choice(data.columns)\n",
    "        data.at[index, random_col] = np.nan"
   ]
  },
  {
   "cell_type": "markdown",
   "metadata": {},
   "source": [
    "## Zastąpienie brakujących wartości średnią"
   ]
  },
  {
   "cell_type": "code",
   "execution_count": null,
   "metadata": {},
   "outputs": [],
   "source": [
    "means = data.mean(axis=0)\n",
    "for index, value in means.items():\n",
    "    data[index].fillna(value=value, inplace=True)"
   ]
  },
  {
   "cell_type": "markdown",
   "metadata": {},
   "source": [
    "## Zastąpienie brakujących wartości medianą"
   ]
  },
  {
   "cell_type": "code",
   "execution_count": null,
   "metadata": {},
   "outputs": [],
   "source": [
    "medians = data.median(axis=0)\n",
    "for index, value in medians.items():\n",
    "    data[index].fillna(value=value, inplace=True)"
   ]
  },
  {
   "cell_type": "markdown",
   "metadata": {},
   "source": [
    "## Zastąpienie najczęściej występujacą wartością"
   ]
  },
  {
   "cell_type": "code",
   "execution_count": null,
   "metadata": {},
   "outputs": [],
   "source": [
    "value = data['is_safe'].value_counts().idxmax()\n",
    "data['is_safe'].fillna(value=value, inplace=True)"
   ]
  },
  {
   "cell_type": "markdown",
   "metadata": {},
   "source": [
    "# 2. Statystyki opisowe i podsumowujące"
   ]
  },
  {
   "cell_type": "code",
   "execution_count": null,
   "metadata": {},
   "outputs": [],
   "source": [
    "data.describe()"
   ]
  },
  {
   "cell_type": "code",
   "execution_count": null,
   "metadata": {},
   "outputs": [],
   "source": [
    "data.info()"
   ]
  },
  {
   "cell_type": "markdown",
   "metadata": {},
   "source": [
    "## Zależności między zmiennymi\n",
    "Scatter ploty między każdą parą zmiennych. Na przekątnej wykres gęstości prawdopodobieństwa (rozkład) zmiennej."
   ]
  },
  {
   "cell_type": "code",
   "execution_count": null,
   "metadata": {},
   "outputs": [],
   "source": [
    "import seaborn as sns\n",
    "\n",
    "sns.pairplot(data)\n",
    "plt.show()"
   ]
  },
  {
   "cell_type": "markdown",
   "metadata": {},
   "source": [
    "#### Zmiennej podejrzane o relacje"
   ]
  },
  {
   "cell_type": "code",
   "execution_count": null,
   "metadata": {},
   "outputs": [],
   "source": [
    "sns.pairplot(data[['bacteria', 'viruses']])\n",
    "plt.show()"
   ]
  },
  {
   "cell_type": "markdown",
   "metadata": {},
   "source": [
    "## Tabela korelacji"
   ]
  },
  {
   "cell_type": "code",
   "execution_count": null,
   "metadata": {},
   "outputs": [],
   "source": [
    "from matplotlib.pyplot import figure\n",
    "\n",
    "figure(figsize=(16, 9), dpi=80)\n",
    "\n",
    "corrMatrix = data.corr()\n",
    "sns.heatmap(corrMatrix, annot=True)\n",
    "plt.show()"
   ]
  },
  {
   "cell_type": "markdown",
   "metadata": {},
   "source": [
    "## Histogramy"
   ]
  },
  {
   "cell_type": "code",
   "execution_count": null,
   "metadata": {},
   "outputs": [],
   "source": [
    "print(data.columns)\n",
    "\n",
    "data.hist(figsize=(30, 30))\n",
    "plt.show()"
   ]
  },
  {
   "cell_type": "markdown",
   "metadata": {},
   "source": [
    "Zmiennej podejrzane o relacje"
   ]
  },
  {
   "cell_type": "code",
   "execution_count": null,
   "metadata": {},
   "outputs": [],
   "source": [
    "sns.pairplot(data[['bacteria', 'viruses']])\n",
    "plt.show()"
   ]
  },
  {
   "cell_type": "markdown",
   "metadata": {},
   "source": [
    "## Boxploty"
   ]
  },
  {
   "cell_type": "code",
   "execution_count": null,
   "metadata": {},
   "outputs": [],
   "source": [
    "data.boxplot(figsize=(30, 15))\n",
    "plt.show()"
   ]
  },
  {
   "cell_type": "markdown",
   "metadata": {},
   "source": [
    "#### Odfiltrowanie wartości odstających"
   ]
  },
  {
   "cell_type": "code",
   "execution_count": 2,
   "metadata": {},
   "outputs": [],
   "source": [
    "from scipy import stats\n",
    "filtered = data[(np.abs(stats.zscore(data['aluminium'])) < 3)]\n",
    "filtered = filtered[(np.abs(stats.zscore(filtered['arsenic'])) < 3)]\n",
    "filtered = filtered[(np.abs(stats.zscore(filtered['nitrites'])) < 3)]"
   ]
  },
  {
   "cell_type": "code",
   "execution_count": 4,
   "metadata": {},
   "outputs": [
    {
     "data": {
      "image/png": "[encoded data removed]",
      "text/plain": [
       "<Figure size 2160x1080 with 1 Axes>"
      ]
     },
     "metadata": {
      "needs_background": "light"
     },
     "output_type": "display_data"
    },
    {
     "name": "stdout",
     "output_type": "stream",
     "text": [
      "<class 'pandas.core.frame.DataFrame'>\n",
      "Int64Index: 7599 entries, 0 to 7998\n",
      "Data columns (total 21 columns):\n",
      " #   Column       Non-Null Count  Dtype  \n",
      "---  ------       --------------  -----  \n",
      " 0   aluminium    7599 non-null   float64\n",
      " 1   ammonia      7599 non-null   float64\n",
      " 2   arsenic      7599 non-null   float64\n",
      " 3   barium       7599 non-null   float64\n",
      " 4   cadmium      7599 non-null   float64\n",
      " 5   chloramine   7599 non-null   float64\n",
      " 6   chromium     7599 non-null   float64\n",
      " 7   copper       7599 non-null   float64\n",
      " 8   flouride     7599 non-null   float64\n",
      " 9   bacteria     7599 non-null   float64\n",
      " 10  viruses      7599 non-null   float64\n",
      " 11  lead         7599 non-null   float64\n",
      " 12  nitrates     7599 non-null   float64\n",
      " 13  nitrites     7599 non-null   float64\n",
      " 14  mercury      7599 non-null   float64\n",
      " 15  perchlorate  7599 non-null   float64\n",
      " 16  radium       7599 non-null   float64\n",
      " 17  selenium     7599 non-null   float64\n",
      " 18  silver       7599 non-null   float64\n",
      " 19  uranium      7599 non-null   float64\n",
      " 20  is_safe      7599 non-null   object \n",
      "dtypes: float64(20), object(1)\n",
      "memory usage: 1.3+ MB\n"
     ]
    }
   ],
   "source": [
    "filtered.boxplot(figsize=(30, 15))\n",
    "plt.show()\n",
    "filtered.info()"
   ]
  },
  {
   "cell_type": "markdown",
   "metadata": {},
   "source": [
    "# 3. Skalowanie cech"
   ]
  },
  {
   "cell_type": "code",
   "execution_count": 3,
   "metadata": {},
   "outputs": [],
   "source": [
    "from sklearn import preprocessing\n",
    "\n",
    "scaler = preprocessing.StandardScaler().fit(data[['aluminium', 'ammonia', 'arsenic', 'barium', 'cadmium', 'chloramine', 'chromium', 'copper', 'flouride', 'bacteria', 'viruses', 'lead', 'nitrates', 'nitrites', 'mercury', 'perchlorate', 'radium', 'selenium', 'silver', 'uranium']])\n",
    "data_scaled = scaler.transform(filtered[['aluminium', 'ammonia', 'arsenic', 'barium', 'cadmium', 'chloramine', 'chromium', 'copper', 'flouride', 'bacteria', 'viruses', 'lead', 'nitrates', 'nitrites', 'mercury', 'perchlorate', 'radium', 'selenium', 'silver', 'uranium']])\n",
    "\n",
    "data_scaled = pd.DataFrame(np.append(data_scaled, filtered[['is_safe']].to_numpy(), axis=1), dtype=float)\n",
    "data_scaled.columns = data.columns"
   ]
  },
  {
   "cell_type": "code",
   "execution_count": null,
   "metadata": {},
   "outputs": [],
   "source": [
    "data_scaled.boxplot(figsize=(30, 9))\n",
    "plt.show()\n",
    "data_scaled.describe()\n",
    "data.info()"
   ]
  },
  {
   "cell_type": "markdown",
   "metadata": {},
   "source": [
    "# 4. Redukcja wymiarowości\n",
    "### Podział train-test"
   ]
  },
  {
   "cell_type": "code",
   "execution_count": 4,
   "metadata": {},
   "outputs": [
    {
     "data": {
      "text/plain": [
       "(array([0., 1.]), array([5402,  677]))"
      ]
     },
     "execution_count": 4,
     "metadata": {},
     "output_type": "execute_result"
    }
   ],
   "source": [
    "from sklearn.model_selection import train_test_split\n",
    "\n",
    "X = data_scaled.loc[:, data_scaled.columns[:-1]].values\n",
    "y = data_scaled.loc[:,['is_safe']].values.flatten()\n",
    "\n",
    "X_train, X_test, y_train, y_test = train_test_split(X, y, test_size=0.2, random_state=42, stratify=y)\n",
    "y_train.shape, y_test.shape\n",
    "np.unique(y_train, return_counts=True)"
   ]
  },
  {
   "cell_type": "markdown",
   "metadata": {},
   "source": [
    "### Selekcja cech\n",
    "#### Sequenential Forward/Backward Selection"
   ]
  },
  {
   "cell_type": "markdown",
   "metadata": {},
   "source": [
    "Możliwe metryki: (jeżeli nie podana, wybierana jest domyślna metryka z podanego kalsyfikatora, można też napisać własną funkcję score'ującą)"
   ]
  },
  {
   "cell_type": "code",
   "execution_count": 7,
   "metadata": {},
   "outputs": [],
   "source": [
    "from sklearn import metrics"
   ]
  },
  {
   "cell_type": "code",
   "execution_count": 5,
   "metadata": {},
   "outputs": [
    {
     "data": {
      "text/plain": [
       "((6079, 18),\n",
       " array([ True,  True,  True, False,  True,  True,  True, False,  True,\n",
       "         True,  True,  True,  True,  True,  True,  True,  True,  True,\n",
       "         True,  True]))"
      ]
     },
     "execution_count": 5,
     "metadata": {},
     "output_type": "execute_result"
    }
   ],
   "source": [
    "from sklearn.feature_selection import SequentialFeatureSelector\n",
    "from sklearn.neighbors import KNeighborsClassifier\n",
    "\n",
    "knn = KNeighborsClassifier(n_neighbors=3) # przykładowy klasyfikator\n",
    "\n",
    "sfs = SequentialFeatureSelector(\n",
    "    knn,                           # klasyfikator\n",
    "    n_features_to_select=18,       # liczba oczekwianych cech\n",
    "    direction='forward',           # 'backward' || 'forward'\n",
    "    scoring=None)  # metoda obliczania jakości modelu\n",
    "\n",
    "sfs.fit(X_train, y_train)\n",
    "reduced = sfs.transform(X_train)\n",
    "reduced.shape, sfs.get_support()"
   ]
  },
  {
   "cell_type": "markdown",
   "metadata": {},
   "source": [
    "### Ekstrakcja cech\n",
    "#### Algorytm PCA"
   ]
  },
  {
   "cell_type": "code",
   "execution_count": 6,
   "metadata": {},
   "outputs": [
    {
     "data": {
      "text/plain": [
       "((6079, 18), 0.9681504521288489)"
      ]
     },
     "execution_count": 6,
     "metadata": {},
     "output_type": "execute_result"
    }
   ],
   "source": [
    "from sklearn.decomposition import PCA\n",
    "\n",
    "pca = PCA(n_components=18)\n",
    "pca.fit(X_train)\n",
    "principalComponents = pca.transform(X_train)\n",
    "principalComponents.shape, pca.explained_variance_ratio_.sum()"
   ]
  },
  {
   "cell_type": "markdown",
   "metadata": {},
   "source": [
    "# 5. Modele decyzyjne"
   ]
  },
  {
   "cell_type": "markdown",
   "metadata": {},
   "source": [
    "## Generowanie próbek brakującej klasy"
   ]
  },
  {
   "cell_type": "code",
   "execution_count": 10,
   "metadata": {},
   "outputs": [],
   "source": [
    "from imblearn.over_sampling import SMOTE\n",
    "\n",
    "oversample = SMOTE()\n",
    "X_train_OS, y_train_OS = oversample.fit_resample(X_train, y_train)\n",
    "\n",
    "principalComponents_OS = pca.transform(X_train_OS)\n",
    "reduced_OS = sfs.transform(X_train_OS)"
   ]
  },
  {
   "cell_type": "code",
   "execution_count": 24,
   "metadata": {},
   "outputs": [
    {
     "name": "stdout",
     "output_type": "stream",
     "text": [
      "(array([0., 1.]), array([5402, 5402]))                   0\n",
      "count  10804.000000\n",
      "mean       0.500000\n",
      "std        0.500023\n",
      "min        0.000000\n",
      "25%        0.000000\n",
      "50%        0.500000\n",
      "75%        1.000000\n",
      "max        1.000000\n"
     ]
    }
   ],
   "source": [
    "print(np.unique(y_train_OS, return_counts=True),\n",
    "pd.DataFrame(y_train_OS).describe())"
   ]
  },
  {
   "cell_type": "code",
   "execution_count": 13,
   "metadata": {},
   "outputs": [],
   "source": [
    "import warnings\n",
    "warnings.filterwarnings(\"ignore\", category=DeprecationWarning)"
   ]
  },
  {
   "cell_type": "markdown",
   "metadata": {},
   "source": [
    "## Regresja logistyczna"
   ]
  },
  {
   "cell_type": "code",
   "execution_count": 25,
   "metadata": {},
   "outputs": [
    {
     "name": "stdout",
     "output_type": "stream",
     "text": [
      "PCA:  (0.9157894736842105, 0.47967479674796754)\n"
     ]
    },
    {
     "data": {
      "image/png": "[encoded data removed]",
      "text/plain": [
       "<Figure size 432x288 with 2 Axes>"
      ]
     },
     "metadata": {
      "needs_background": "light"
     },
     "output_type": "display_data"
    },
    {
     "name": "stdout",
     "output_type": "stream",
     "text": [
      "PCA+oversampling:  (0.7907894736842105, 0.4381625441696113)\n"
     ]
    },
    {
     "data": {
      "image/png": "[encoded data removed]",
      "text/plain": [
       "<Figure size 432x288 with 2 Axes>"
      ]
     },
     "metadata": {
      "needs_background": "light"
     },
     "output_type": "display_data"
    },
    {
     "name": "stdout",
     "output_type": "stream",
     "text": [
      "SFS:  (0.9164473684210527, 0.4980237154150199)\n"
     ]
    },
    {
     "data": {
      "image/png": "[encoded data removed]",
      "text/plain": [
       "<Figure size 432x288 with 2 Axes>"
      ]
     },
     "metadata": {
      "needs_background": "light"
     },
     "output_type": "display_data"
    },
    {
     "name": "stdout",
     "output_type": "stream",
     "text": [
      "SFS+oversampling:  (0.8, 0.43911439114391143)\n"
     ]
    },
    {
     "data": {
      "image/png": "[encoded data removed]",
      "text/plain": [
       "<Figure size 432x288 with 2 Axes>"
      ]
     },
     "metadata": {
      "needs_background": "light"
     },
     "output_type": "display_data"
    }
   ],
   "source": [
    "from sklearn.linear_model import LogisticRegression\n",
    "from sklearn import metrics\n",
    "from warnings import simplefilter\n",
    "from sklearn import tree\n",
    "\n",
    "simplefilter(action='ignore', category=FutureWarning)\n",
    "\n",
    "#PCA\n",
    "lr = LogisticRegression(random_state=0).fit(principalComponents, y_train)\n",
    "X_test_transformed = pca.transform(X_test)\n",
    "y_pred = lr.predict(X_test_transformed)\n",
    "result = metrics.accuracy_score(y_test, y_pred), metrics.f1_score(y_test, y_pred)\n",
    "print('PCA: ', result)\n",
    "metrics.plot_confusion_matrix(lr, X_test_transformed, y_test)\n",
    "plt.show()\n",
    "\n",
    "#PCA + oversampling\n",
    "lr = LogisticRegression(random_state=0).fit(principalComponents_OS, y_train_OS)\n",
    "X_test_transformed = pca.transform(X_test)\n",
    "y_pred = lr.predict(X_test_transformed)\n",
    "result = metrics.accuracy_score(y_test, y_pred), metrics.f1_score(y_test, y_pred)\n",
    "print('PCA+oversampling: ', result)\n",
    "metrics.plot_confusion_matrix(lr, X_test_transformed, y_test)\n",
    "plt.show()\n",
    "\n",
    "#SFS\n",
    "lr = LogisticRegression(random_state=0).fit(reduced, y_train)\n",
    "X_test_reduced = sfs.transform(X_test)\n",
    "y_pred = lr.predict(X_test_reduced)\n",
    "result = metrics.accuracy_score(y_test, y_pred), metrics.f1_score(y_test, y_pred)\n",
    "print('SFS: ', result)\n",
    "metrics.plot_confusion_matrix(lr, X_test_reduced, y_test)\n",
    "plt.show()\n",
    "\n",
    "#SFS + oversampling\n",
    "lr = LogisticRegression(random_state=0).fit(reduced_OS, y_train_OS)\n",
    "X_test_reduced = sfs.transform(X_test)\n",
    "y_pred = lr.predict(X_test_reduced)\n",
    "result = metrics.accuracy_score(y_test, y_pred), metrics.f1_score(y_test, y_pred)\n",
    "print('SFS+oversampling: ', result)\n",
    "metrics.plot_confusion_matrix(lr, X_test_reduced, y_test)\n",
    "plt.show()"
   ]
  },
  {
   "cell_type": "markdown",
   "metadata": {},
   "source": [
    "### Walidacja krzyżowa"
   ]
  },
  {
   "cell_type": "code",
   "execution_count": 26,
   "metadata": {},
   "outputs": [
    {
     "name": "stdout",
     "output_type": "stream",
     "text": [
      "Srednia skutecznosc: 0.874327196449622 0.3360094057251226\n"
     ]
    }
   ],
   "source": [
    "from sklearn.model_selection import cross_val_score\n",
    "\n",
    "lr = LogisticRegression(random_state=0)\n",
    "XX = pca.transform(X)\n",
    "accuracy = cross_val_score(lr, XX, y, cv=10, scoring='accuracy')\n",
    "f1 = cross_val_score(lr, XX, y, cv=10, scoring='f1')\n",
    "\n",
    "print(\"Srednia skutecznosc:\", accuracy.mean(), f1.mean())"
   ]
  },
  {
   "cell_type": "markdown",
   "metadata": {},
   "source": [
    "## Algroytm k-najbliższych sąsiadów"
   ]
  },
  {
   "cell_type": "code",
   "execution_count": 28,
   "metadata": {},
   "outputs": [
    {
     "name": "stdout",
     "output_type": "stream",
     "text": [
      "PCA: 0.9052631578947369 0.4330708661417323\n"
     ]
    },
    {
     "data": {
      "image/png": "[encoded data removed]",
      "text/plain": [
       "<Figure size 432x288 with 2 Axes>"
      ]
     },
     "metadata": {
      "needs_background": "light"
     },
     "output_type": "display_data"
    },
    {
     "name": "stdout",
     "output_type": "stream",
     "text": [
      "PCA+oversampling: 0.7973684210526316 0.4671280276816609\n"
     ]
    },
    {
     "data": {
      "image/png": "[encoded data removed]",
      "text/plain": [
       "<Figure size 432x288 with 2 Axes>"
      ]
     },
     "metadata": {
      "needs_background": "light"
     },
     "output_type": "display_data"
    },
    {
     "name": "stdout",
     "output_type": "stream",
     "text": [
      "SFS: 0.9125 0.49429657794676807\n"
     ]
    },
    {
     "data": {
      "image/png": "[encoded data removed]",
      "text/plain": [
       "<Figure size 432x288 with 2 Axes>"
      ]
     },
     "metadata": {
      "needs_background": "light"
     },
     "output_type": "display_data"
    },
    {
     "name": "stdout",
     "output_type": "stream",
     "text": [
      "SFS + oversampling: 0.8052631578947368 0.48432055749128916\n"
     ]
    },
    {
     "data": {
      "image/png": "[encoded data removed]",
      "text/plain": [
       "<Figure size 432x288 with 2 Axes>"
      ]
     },
     "metadata": {
      "needs_background": "light"
     },
     "output_type": "display_data"
    }
   ],
   "source": [
    "from sklearn.neighbors import KNeighborsClassifier\n",
    "\n",
    "#PCA\n",
    "neigh = KNeighborsClassifier(n_neighbors=5)\n",
    "neigh.fit(principalComponents, y_train)\n",
    "X_test_transformed = pca.transform(X_test)\n",
    "y_pred = neigh.predict(X_test_transformed)\n",
    "\n",
    "print(\"PCA:\", metrics.accuracy_score(y_test, y_pred), metrics.f1_score(y_test, y_pred) )\n",
    "metrics.plot_confusion_matrix(neigh, X_test_transformed, y_test)\n",
    "plt.show()\n",
    "\n",
    "#PCA + oversampling\n",
    "neigh = KNeighborsClassifier(n_neighbors=5)\n",
    "neigh.fit(principalComponents_OS, y_train_OS)\n",
    "X_test_transformed = pca.transform(X_test)\n",
    "y_pred = neigh.predict(X_test_transformed)\n",
    "\n",
    "print(\"PCA+oversampling:\", metrics.accuracy_score(y_test, y_pred), metrics.f1_score(y_test, y_pred) )\n",
    "metrics.plot_confusion_matrix(neigh, X_test_transformed, y_test)\n",
    "plt.show()\n",
    "\n",
    "\n",
    "\n",
    "#SFS\n",
    "neigh = KNeighborsClassifier(n_neighbors=5)\n",
    "neigh.fit(reduced, y_train)\n",
    "X_test_reduced = sfs.transform(X_test)\n",
    "y_pred = neigh.predict(X_test_reduced)\n",
    "\n",
    "print(\"SFS:\", metrics.accuracy_score(y_test, y_pred), metrics.f1_score(y_test, y_pred) )\n",
    "metrics.plot_confusion_matrix(neigh, X_test_reduced, y_test)\n",
    "plt.show()\n",
    "\n",
    "#SFS + oversampling\n",
    "neigh = KNeighborsClassifier(n_neighbors=5)\n",
    "neigh.fit(reduced_OS, y_train_OS)\n",
    "X_test_reduced = sfs.transform(X_test)\n",
    "y_pred = neigh.predict(X_test_reduced)\n",
    "\n",
    "print(\"SFS + oversampling:\", metrics.accuracy_score(y_test, y_pred), metrics.f1_score(y_test, y_pred) )\n",
    "metrics.plot_confusion_matrix(neigh, X_test_reduced, y_test)\n",
    "plt.show()"
   ]
  },
  {
   "cell_type": "markdown",
   "metadata": {},
   "source": [
    "### Walidacja krzyżowa"
   ]
  },
  {
   "cell_type": "code",
   "execution_count": 29,
   "metadata": {},
   "outputs": [
    {
     "name": "stdout",
     "output_type": "stream",
     "text": [
      "Srednia skutecznosc: 0.880643852714791 0.40718673745051337\n"
     ]
    }
   ],
   "source": [
    "kneigh = KNeighborsClassifier(n_neighbors=5)\n",
    "XX = sfs.transform(X)\n",
    "accuracy = cross_val_score(kneigh, XX, y, cv=10, scoring='accuracy')\n",
    "f1 = cross_val_score(kneigh, XX, y, cv=10, scoring='f1')\n",
    "\n",
    "print(\"Srednia skutecznosc:\", accuracy.mean(), f1.mean())"
   ]
  },
  {
   "cell_type": "markdown",
   "metadata": {},
   "source": [
    "## Maszyna wektorów nośnych"
   ]
  },
  {
   "cell_type": "code",
   "execution_count": 30,
   "metadata": {},
   "outputs": [
    {
     "name": "stdout",
     "output_type": "stream",
     "text": [
      "PCA: 0.9361842105263158 0.6283524904214559\n"
     ]
    },
    {
     "data": {
      "image/png": "[encoded data removed]",
      "text/plain": [
       "<Figure size 432x288 with 2 Axes>"
      ]
     },
     "metadata": {
      "needs_background": "light"
     },
     "output_type": "display_data"
    },
    {
     "name": "stdout",
     "output_type": "stream",
     "text": [
      "PCA + balanced: 0.8809210526315789 0.5914221218961625\n"
     ]
    },
    {
     "data": {
      "image/png": "[encoded data removed]",
      "text/plain": [
       "<Figure size 432x288 with 2 Axes>"
      ]
     },
     "metadata": {
      "needs_background": "light"
     },
     "output_type": "display_data"
    },
    {
     "name": "stdout",
     "output_type": "stream",
     "text": [
      "PCA + oversampling: 0.8855263157894737 0.6063348416289592\n"
     ]
    },
    {
     "data": {
      "image/png": "[encoded data removed]",
      "text/plain": [
       "<Figure size 432x288 with 2 Axes>"
      ]
     },
     "metadata": {
      "needs_background": "light"
     },
     "output_type": "display_data"
    },
    {
     "name": "stdout",
     "output_type": "stream",
     "text": [
      "SFS: 0.9381578947368421 0.6356589147286822\n"
     ]
    },
    {
     "data": {
      "image/png": "[encoded data removed]",
      "text/plain": [
       "<Figure size 432x288 with 2 Axes>"
      ]
     },
     "metadata": {
      "needs_background": "light"
     },
     "output_type": "display_data"
    },
    {
     "name": "stdout",
     "output_type": "stream",
     "text": [
      "SFS + balanced: 0.8789473684210526 0.5929203539823009\n"
     ]
    },
    {
     "data": {
      "image/png": "[encoded data removed]",
      "text/plain": [
       "<Figure size 432x288 with 2 Axes>"
      ]
     },
     "metadata": {
      "needs_background": "light"
     },
     "output_type": "display_data"
    },
    {
     "name": "stdout",
     "output_type": "stream",
     "text": [
      "SFS + oversampling: 0.8881578947368421 0.6100917431192662\n"
     ]
    },
    {
     "data": {
      "image/png": "[encoded data removed]",
      "text/plain": [
       "<Figure size 432x288 with 2 Axes>"
      ]
     },
     "metadata": {
      "needs_background": "light"
     },
     "output_type": "display_data"
    }
   ],
   "source": [
    "from sklearn.svm import SVC\n",
    "\n",
    "kernel = 'poly' # rbf\n",
    "max_iter = 12000\n",
    "\n",
    "#PCA\n",
    "svc = SVC(max_iter=max_iter, kernel=kernel)\n",
    "svc.fit(principalComponents, y_train)\n",
    "X_test_transformed = pca.transform(X_test)\n",
    "y_pred = svc.predict(X_test_transformed)\n",
    "\n",
    "print(\"PCA:\", metrics.accuracy_score(y_test, y_pred), metrics.f1_score(y_test, y_pred) )\n",
    "metrics.plot_confusion_matrix(svc, X_test_transformed, y_test)\n",
    "plt.show()\n",
    "\n",
    "#PCA + balanced\n",
    "svc = SVC(class_weight='balanced', kernel=kernel, max_iter=max_iter)\n",
    "svc.fit(principalComponents, y_train)\n",
    "X_test_transformed = pca.transform(X_test)\n",
    "y_pred = svc.predict(X_test_transformed)\n",
    "\n",
    "print(\"PCA + balanced:\", metrics.accuracy_score(y_test, y_pred), metrics.f1_score(y_test, y_pred) )\n",
    "metrics.plot_confusion_matrix(svc, X_test_transformed, y_test)\n",
    "plt.show()\n",
    "\n",
    "#PCA + oversampling\n",
    "svc = SVC(max_iter=max_iter, kernel=kernel)\n",
    "svc.fit(principalComponents_OS, y_train_OS)\n",
    "X_test_transformed = pca.transform(X_test)\n",
    "y_pred = svc.predict(X_test_transformed)\n",
    "\n",
    "print(\"PCA + oversampling:\", metrics.accuracy_score(y_test, y_pred), metrics.f1_score(y_test, y_pred) )\n",
    "metrics.plot_confusion_matrix(svc, X_test_transformed, y_test)\n",
    "plt.show()\n",
    "\n",
    "\n",
    "\n",
    "#SFS\n",
    "svc =  SVC(max_iter=max_iter, kernel=kernel)\n",
    "svc.fit(reduced, y_train)\n",
    "X_test_reduced = sfs.transform(X_test)\n",
    "y_pred = svc.predict(X_test_reduced)\n",
    "\n",
    "print(\"SFS:\", metrics.accuracy_score(y_test, y_pred), metrics.f1_score(y_test, y_pred) )\n",
    "metrics.plot_confusion_matrix(svc, X_test_reduced, y_test)\n",
    "plt.show()\n",
    "\n",
    "#SFS + balanced\n",
    "svc =  SVC(class_weight='balanced', max_iter=max_iter, kernel=kernel)\n",
    "svc.fit(reduced, y_train)\n",
    "X_test_reduced = sfs.transform(X_test)\n",
    "y_pred = svc.predict(X_test_reduced)\n",
    "\n",
    "print(\"SFS + balanced:\", metrics.accuracy_score(y_test, y_pred), metrics.f1_score(y_test, y_pred) )\n",
    "metrics.plot_confusion_matrix(svc, X_test_reduced, y_test)\n",
    "plt.show()\n",
    "\n",
    "\n",
    "#SFS + oversampling\n",
    "svc =  SVC(class_weight='balanced', max_iter=max_iter, kernel=kernel)\n",
    "svc.fit(reduced_OS, y_train_OS)\n",
    "X_test_reduced = sfs.transform(X_test)\n",
    "y_pred = svc.predict(X_test_reduced)\n",
    "\n",
    "print(\"SFS + oversampling:\", metrics.accuracy_score(y_test, y_pred), metrics.f1_score(y_test, y_pred) )\n",
    "metrics.plot_confusion_matrix(svc, X_test_reduced, y_test)\n",
    "plt.show()"
   ]
  },
  {
   "cell_type": "markdown",
   "metadata": {},
   "source": [
    "### Walidacja krzyżowa"
   ]
  },
  {
   "cell_type": "code",
   "execution_count": 31,
   "metadata": {},
   "outputs": [
    {
     "name": "stdout",
     "output_type": "stream",
     "text": [
      "Srednia skutecznosc: 0.8936696484293739 0.46424253561963164\n"
     ]
    }
   ],
   "source": [
    "svc = SVC(max_iter=max_iter, kernel=kernel)\n",
    "XX = sfs.transform(X)\n",
    "accuracy = cross_val_score(svc, XX, y, cv=10, scoring='accuracy')\n",
    "f1 = cross_val_score(svc, XX, y, cv=10, scoring='f1')\n",
    "\n",
    "print(\"Srednia skutecznosc:\", accuracy.mean(), f1.mean())"
   ]
  },
  {
   "cell_type": "markdown",
   "metadata": {},
   "source": [
    "## Drzewo decyzyjne"
   ]
  },
  {
   "cell_type": "code",
   "execution_count": 34,
   "metadata": {},
   "outputs": [
    {
     "name": "stdout",
     "output_type": "stream",
     "text": [
      "PCA: 0.8782894736842105 0.4606413994169096\n"
     ]
    },
    {
     "data": {
      "image/png": "[encoded data removed]",
      "text/plain": [
       "<Figure size 432x288 with 2 Axes>"
      ]
     },
     "metadata": {
      "needs_background": "light"
     },
     "output_type": "display_data"
    },
    {
     "name": "stdout",
     "output_type": "stream",
     "text": [
      "PCA + oversampling: 0.8723684210526316 0.515\n"
     ]
    },
    {
     "data": {
      "image/png": "[encoded data removed]",
      "text/plain": [
       "<Figure size 432x288 with 2 Axes>"
      ]
     },
     "metadata": {
      "needs_background": "light"
     },
     "output_type": "display_data"
    },
    {
     "name": "stdout",
     "output_type": "stream",
     "text": [
      "SFS: 0.9598684210526316 0.809968847352025\n"
     ]
    },
    {
     "data": {
      "image/png": "[encoded data removed]",
      "text/plain": [
       "<Figure size 432x288 with 2 Axes>"
      ]
     },
     "metadata": {
      "needs_background": "light"
     },
     "output_type": "display_data"
    },
    {
     "name": "stdout",
     "output_type": "stream",
     "text": [
      "SFS + oversampling: 0.9473684210526315 0.7647058823529411\n"
     ]
    },
    {
     "data": {
      "image/png": "[encoded data removed]",
      "text/plain": [
       "<Figure size 432x288 with 2 Axes>"
      ]
     },
     "metadata": {
      "needs_background": "light"
     },
     "output_type": "display_data"
    }
   ],
   "source": [
    "from warnings import simplefilter\n",
    "from sklearn import tree\n",
    "\n",
    "simplefilter(action='ignore', category=FutureWarning)\n",
    "\n",
    "#PCA\n",
    "dt = tree.DecisionTreeClassifier(random_state=0)\n",
    "dt.fit(principalComponents, y_train)\n",
    "X_test_transformed = pca.transform(X_test)\n",
    "y_pred = dt.predict(X_test_transformed)\n",
    "\n",
    "print(\"PCA:\", metrics.accuracy_score(y_test, y_pred), metrics.f1_score(y_test, y_pred) )\n",
    "metrics.plot_confusion_matrix(dt, X_test_transformed, y_test)\n",
    "plt.show()\n",
    "\n",
    "#PCA + oversampling\n",
    "dt = tree.DecisionTreeClassifier(random_state=0)\n",
    "dt.fit(principalComponents_OS, y_train_OS)\n",
    "X_test_transformed = pca.transform(X_test)\n",
    "y_pred = dt.predict(X_test_transformed)\n",
    "\n",
    "print(\"PCA + oversampling:\", metrics.accuracy_score(y_test, y_pred), metrics.f1_score(y_test, y_pred) )\n",
    "metrics.plot_confusion_matrix(dt, X_test_transformed, y_test)\n",
    "plt.show()\n",
    "\n",
    "\n",
    "\n",
    "#SFS\n",
    "dt = tree.DecisionTreeClassifier(random_state=0)\n",
    "dt.fit(reduced, y_train)\n",
    "X_test_reduced = sfs.transform(X_test)\n",
    "y_pred = dt.predict(X_test_reduced)\n",
    "\n",
    "print(\"SFS:\", metrics.accuracy_score(y_test, y_pred), metrics.f1_score(y_test, y_pred) )\n",
    "metrics.plot_confusion_matrix(dt, X_test_reduced, y_test)\n",
    "plt.show()\n",
    "\n",
    "#SFS + oversampling\n",
    "dt = tree.DecisionTreeClassifier(random_state=0)\n",
    "dt.fit(reduced_OS, y_train_OS)\n",
    "X_test_reduced = sfs.transform(X_test)\n",
    "y_pred = dt.predict(X_test_reduced)\n",
    "\n",
    "print(\"SFS + oversampling:\", metrics.accuracy_score(y_test, y_pred), metrics.f1_score(y_test, y_pred) )\n",
    "metrics.plot_confusion_matrix(dt, X_test_reduced, y_test)\n",
    "plt.show()"
   ]
  },
  {
   "cell_type": "markdown",
   "metadata": {},
   "source": [
    "### Walidacja krzyżowa"
   ]
  },
  {
   "cell_type": "code",
   "execution_count": 35,
   "metadata": {},
   "outputs": [
    {
     "name": "stdout",
     "output_type": "stream",
     "text": [
      "Srednia skutecznosc: 0.8364295125164691 0.5344881768065199\n"
     ]
    }
   ],
   "source": [
    "dt = tree.DecisionTreeClassifier(random_state=0)\n",
    "XX = sfs.transform(X)\n",
    "accuracy = cross_val_score(dt, XX, y, cv=10, scoring='accuracy')\n",
    "f1 = cross_val_score(dt, XX, y, cv=10, scoring='f1')\n",
    "\n",
    "print(\"Srednia skutecznosc:\", accuracy.mean(), f1.mean())"
   ]
  },
  {
   "cell_type": "markdown",
   "metadata": {},
   "source": [
    "### Podsumowanie\n",
    "Najlepszy model pod względem accuracy score i F1 score: Decission tree + SFS \n"
   ]
  },
  {
   "cell_type": "markdown",
   "metadata": {},
   "source": [
    "# 6. Uczenie zespołowe"
   ]
  },
  {
   "cell_type": "markdown",
   "metadata": {},
   "source": [
    "## Las losowy"
   ]
  },
  {
   "cell_type": "code",
   "execution_count": 36,
   "metadata": {},
   "outputs": [
    {
     "name": "stdout",
     "output_type": "stream",
     "text": [
      "PCA: 0.9223684210526316 0.48695652173913045\n"
     ]
    },
    {
     "data": {
      "image/png": "[encoded data removed]",
      "text/plain": [
       "<Figure size 432x288 with 2 Axes>"
      ]
     },
     "metadata": {
      "needs_background": "light"
     },
     "output_type": "display_data"
    },
    {
     "name": "stdout",
     "output_type": "stream",
     "text": [
      "SFS: 0.9605263157894737 0.7959183673469388\n"
     ]
    },
    {
     "data": {
      "image/png": "[encoded data removed]",
      "text/plain": [
       "<Figure size 432x288 with 2 Axes>"
      ]
     },
     "metadata": {
      "needs_background": "light"
     },
     "output_type": "display_data"
    }
   ],
   "source": [
    "from sklearn.ensemble import RandomForestClassifier\n",
    "\n",
    "n_estimators = 100\n",
    "max_depth = 10\n",
    "criterion = 'entropy' # gini, entropy\n",
    "\n",
    "#PCA\n",
    "forest = RandomForestClassifier(n_estimators, criterion=criterion, max_depth=max_depth, random_state=42)\n",
    "forest.fit(principalComponents, y_train)\n",
    "X_test_transformed = pca.transform(X_test)\n",
    "y_pred = forest.predict(X_test_transformed)\n",
    "\n",
    "print(\"PCA:\", metrics.accuracy_score(y_test, y_pred), metrics.f1_score(y_test, y_pred) )\n",
    "metrics.plot_confusion_matrix(forest, X_test_transformed, y_test)\n",
    "plt.show()\n",
    "\n",
    "#SFS\n",
    "forest = RandomForestClassifier(n_estimators, criterion=criterion, max_depth=max_depth, random_state=42)\n",
    "forest.fit(reduced, y_train)\n",
    "X_test_reduced = sfs.transform(X_test)\n",
    "y_pred = forest.predict(X_test_reduced)\n",
    "\n",
    "print(\"SFS:\", metrics.accuracy_score(y_test, y_pred), metrics.f1_score(y_test, y_pred) )\n",
    "metrics.plot_confusion_matrix(forest, X_test_reduced, y_test)\n",
    "plt.show()\n"
   ]
  },
  {
   "cell_type": "code",
   "execution_count": 38,
   "metadata": {},
   "outputs": [
    {
     "name": "stdout",
     "output_type": "stream",
     "text": [
      "Srednia skutecznosc: 0.8848538589556897 0.34994470828539337\n"
     ]
    }
   ],
   "source": [
    "forest = RandomForestClassifier(n_estimators, criterion=criterion, max_depth=max_depth, random_state=42)\n",
    "XX = pca.transform(X)\n",
    "accuracy = cross_val_score(forest, XX, y, cv=10, scoring='accuracy')\n",
    "f1 = cross_val_score(forest, XX, y, cv=10, scoring='f1')\n",
    "\n",
    "print(\"Srednia skutecznosc:\", accuracy.mean(), f1.mean())"
   ]
  },
  {
   "cell_type": "code",
   "execution_count": 39,
   "metadata": {},
   "outputs": [
    {
     "name": "stdout",
     "output_type": "stream",
     "text": [
      "Srednia skutecznosc: 0.9106433326399003 0.5807593733186243\n"
     ]
    }
   ],
   "source": [
    "forest = RandomForestClassifier(n_estimators, criterion=criterion, max_depth=max_depth, random_state=42)\n",
    "XX = sfs.transform(X)\n",
    "accuracy = cross_val_score(forest, XX, y, cv=10, scoring='accuracy')\n",
    "f1 = cross_val_score(forest, XX, y, cv=10, scoring='f1')\n",
    "\n",
    "print(\"Srednia skutecznosc:\", accuracy.mean(), f1.mean())"
   ]
  },
  {
   "cell_type": "markdown",
   "metadata": {},
   "source": [
    "## Voting classifier"
   ]
  },
  {
   "cell_type": "code",
   "execution_count": 40,
   "metadata": {},
   "outputs": [
    {
     "name": "stdout",
     "output_type": "stream",
     "text": [
      "Dokładność:  0.9539473684210527 0.75177304964539\n"
     ]
    },
    {
     "data": {
      "image/png": "[encoded data removed]",
      "text/plain": [
       "<Figure size 432x288 with 2 Axes>"
      ]
     },
     "metadata": {
      "needs_background": "light"
     },
     "output_type": "display_data"
    }
   ],
   "source": [
    "from sklearn.ensemble import VotingClassifier\n",
    "\n",
    "\n",
    "voting = 'soft'\n",
    "weights = [1, 2, 2] # soft: 1,2,2; 1,1,1; 2,1,1; 1,2,1; 2,1,1;\n",
    "\n",
    "lr = LogisticRegression(random_state=0)\n",
    "svc =  SVC(max_iter=max_iter, kernel=kernel, probability=True, random_state=0)\n",
    "dt = tree.DecisionTreeClassifier(random_state=0)\n",
    "\n",
    "voting = VotingClassifier(estimators=[('lr', lr), ('svc', svc), ('dt', dt)], voting=voting, weights=weights)\n",
    "voting.fit(reduced, y_train)\n",
    "\n",
    "X_test_reduced = sfs.transform(X_test)\n",
    "y_pred = voting.predict(X_test_reduced)\n",
    "\n",
    "print(\"Dokładność: \", metrics.accuracy_score(y_test, y_pred), metrics.f1_score(y_test, y_pred) )\n",
    "metrics.plot_confusion_matrix(voting, X_test_reduced, y_test)\n",
    "plt.show()"
   ]
  },
  {
   "cell_type": "code",
   "execution_count": 43,
   "metadata": {},
   "outputs": [
    {
     "name": "stdout",
     "output_type": "stream",
     "text": [
      "Srednia skutecznosc: 0.8957747382289716 0.5487294465655291\n"
     ]
    }
   ],
   "source": [
    "lr = LogisticRegression(random_state=0)\n",
    "svc =  SVC(max_iter=max_iter, kernel=kernel, probability=True, random_state=0)\n",
    "dt = tree.DecisionTreeClassifier(random_state=0)\n",
    "\n",
    "voting = VotingClassifier(estimators=[('lr', lr), ('svc', svc), ('dt', dt)], voting='soft', weights=[1,2,2])\n",
    "XX = sfs.transform(X)\n",
    "accuracy = cross_val_score(voting, XX, y, cv=10, scoring='accuracy')\n",
    "f1 = cross_val_score(voting, XX, y, cv=10, scoring='f1')\n",
    "\n",
    "\n",
    "print(\"Srednia skutecznosc:\", accuracy.mean(), f1.mean())"
   ]
  },
  {
   "cell_type": "markdown",
   "metadata": {},
   "source": [
    "# 7. Opytmalizacja modelu"
   ]
  },
  {
   "cell_type": "markdown",
   "metadata": {},
   "source": [
    "## Grid search"
   ]
  },
  {
   "cell_type": "code",
   "execution_count": 20,
   "metadata": {},
   "outputs": [
    {
     "data": {
      "text/plain": [
       "['mean_fit_time',\n",
       " 'mean_score_time',\n",
       " 'mean_test_score',\n",
       " 'param_class_weight',\n",
       " 'param_criterion',\n",
       " 'param_max_depth',\n",
       " 'param_n_estimators',\n",
       " 'params',\n",
       " 'rank_test_score',\n",
       " 'split0_test_score',\n",
       " 'split1_test_score',\n",
       " 'split2_test_score',\n",
       " 'split3_test_score',\n",
       " 'split4_test_score',\n",
       " 'std_fit_time',\n",
       " 'std_score_time',\n",
       " 'std_test_score']"
      ]
     },
     "execution_count": 20,
     "metadata": {},
     "output_type": "execute_result"
    }
   ],
   "source": [
    "from sklearn.model_selection import GridSearchCV\n",
    "from sklearn.ensemble import RandomForestClassifier\n",
    "\n",
    "parameters = {'n_estimators':[i for i in range(50,250,50)], 'criterion':('gini', 'entropy'), 'max_depth':[i for i in range(4,12,3)], 'class_weight':('balanced', 'balanced_subsample')}\n",
    "\n",
    "rf = RandomForestClassifier()\n",
    "\n",
    "clf = GridSearchCV(rf, parameters, verbose=2, n_jobs=12)\n",
    "clf.fit(reduced, y_train)\n",
    "sorted(clf.cv_results_.keys())"
   ]
  },
  {
   "cell_type": "code",
   "execution_count": 23,
   "metadata": {},
   "outputs": [
    {
     "name": "stdout",
     "output_type": "stream",
     "text": [
      "0.9565789473684211 0.8081395348837209\n"
     ]
    },
    {
     "name": "stderr",
     "output_type": "stream",
     "text": [
      "/usr/lib/python3.10/site-packages/sklearn/utils/deprecation.py:87: FutureWarning: Function plot_confusion_matrix is deprecated; Function `plot_confusion_matrix` is deprecated in 1.0 and will be removed in 1.2. Use one of the class methods: ConfusionMatrixDisplay.from_predictions or ConfusionMatrixDisplay.from_estimator.\n",
      "  warnings.warn(msg, category=FutureWarning)\n"
     ]
    },
    {
     "data": {
      "image/png": "[encoded data removed]",
      "text/plain": [
       "<Figure size 432x288 with 2 Axes>"
      ]
     },
     "metadata": {
      "needs_background": "light"
     },
     "output_type": "display_data"
    },
    {
     "data": {
      "text/plain": [
       "RandomForestClassifier(class_weight='balanced_subsample', criterion='entropy',\n",
       "                       max_depth=10, n_estimators=50)"
      ]
     },
     "execution_count": 23,
     "metadata": {},
     "output_type": "execute_result"
    }
   ],
   "source": [
    "X_test_reduced = sfs.transform(X_test)\n",
    "y_pred = clf.predict(X_test_reduced)\n",
    "\n",
    "print( metrics.accuracy_score(y_test, y_pred), metrics.f1_score(y_test, y_pred) )\n",
    "metrics.plot_confusion_matrix(clf, X_test_reduced, y_test)\n",
    "plt.show()\n",
    "clf.best_estimator_"
   ]
  },
  {
   "cell_type": "markdown",
   "metadata": {},
   "source": [
    "## Algorytmy genetyczne"
   ]
  },
  {
   "cell_type": "code",
   "execution_count": 12,
   "metadata": {},
   "outputs": [],
   "source": [
    "from deap import base\n",
    "from deap import creator\n",
    "from deap import tools\n",
    "\n",
    "import random\n",
    "\n",
    "from sklearn import metrics\n",
    "from sklearn import model_selection\n",
    "from sklearn.preprocessing import MinMaxScaler\n",
    "from sklearn.ensemble import RandomForestClassifier\n",
    "\n",
    "import multiprocessing\n",
    "\n",
    "def RfcParameters(icls):\n",
    "    genome = list()\n",
    "    # n_estimators\n",
    "    genome.append(random.randint(50, 100))\n",
    "    # max_depth\n",
    "    genome.append(random.uniform(0.1,10))\n",
    "    # min_samples_split\n",
    "    genome.append(random.randint(2, 100))\n",
    "    # min_samples_leaf\n",
    "    genome.append(random.randint(2, 100))\n",
    "    # max_leaf_nodes\n",
    "    genome.append(random.randint(2, 20))\n",
    "    return icls(genome)\n",
    "    \n",
    "def RfcParametersFitness(y, df, individual):\n",
    "    split = 5\n",
    "    cv = model_selection.StratifiedKFold(n_splits=split)\n",
    "    \n",
    "    mms = MinMaxScaler()\n",
    "    df_norm = mms.fit_transform(df)\n",
    "    estimator = RandomForestClassifier(n_estimators=individual[0], max_depth=individual[1], min_samples_split=individual[2], min_samples_leaf=individual[3], max_leaf_nodes=individual[4], random_state=0)\n",
    "    \n",
    "    resultSum = 0\n",
    "    \n",
    "    for train, test in cv.split(df_norm, y):\n",
    "        estimator.fit(df_norm[train], y[train])\n",
    "        predicted = estimator.predict(df_norm[test])\n",
    "        expected = y[test]\n",
    "        tn, fp, fn, tp = metrics.confusion_matrix(expected, predicted).ravel()\n",
    "        # recall = tp/(tp + fn) \n",
    "        # precision = tp/(tp + fp)\n",
    "        # f1 = 2*precision*recall/(precision+recall)\n",
    "        # f1 = tp/(tp + 0.5*(fp + fn))\n",
    "        B = 2\n",
    "        factor = (1+B*B)*tp\n",
    "        fB = factor/(factor + B*B*fn + fp)\n",
    "        resultSum = resultSum + fB # zbieramy wyniki z poszczególnych etapów walidacji krzyżowej\n",
    "\n",
    "    return resultSum / split,"
   ]
  },
  {
   "cell_type": "code",
   "execution_count": 15,
   "metadata": {},
   "outputs": [
    {
     "name": "stderr",
     "output_type": "stream",
     "text": [
      "/home/irek/.local/lib/python3.10/site-packages/deap/creator.py:138: RuntimeWarning: A class named 'FitnessMax' has already been created and it will be overwritten. Consider deleting previous creation of that class or rename it.\n",
      "  warnings.warn(\"A class named '{0}' has already been created and it \"\n",
      "/home/irek/.local/lib/python3.10/site-packages/deap/creator.py:138: RuntimeWarning: A class named 'Individual' has already been created and it will be overwritten. Consider deleting previous creation of that class or rename it.\n",
      "  warnings.warn(\"A class named '{0}' has already been created and it \"\n"
     ]
    }
   ],
   "source": [
    "sizePopulation = 20\n",
    "probabilityMutation = 0.2\n",
    "probabilityCrossover = 0.8\n",
    "numberIteration = 20\n",
    "numberElitism = 10\n",
    "processes = 12\n",
    "\n",
    "creator.create(\"FitnessMax\", base.Fitness, weights=(1.0,))\n",
    "creator.create(\"Individual\", list, fitness=creator.FitnessMax)\n",
    "toolbox = base.Toolbox()\n",
    "\n",
    "pool = multiprocessing.Pool(processes=processes)\n",
    "toolbox.register(\"map\", pool.map)\n",
    "\n",
    "toolbox.register('individual', RfcParameters, creator.Individual)\n",
    "toolbox.register(\"population\", tools.initRepeat, list, toolbox.individual)\n",
    "toolbox.register(\"evaluate\", RfcParametersFitness,y_train, reduced)\n",
    "\n",
    "toolbox.register(\"select\", tools.selTournament, tournsize=3)\n",
    "toolbox.register(\"mate\", tools.cxOnePoint)\n",
    "\n",
    "pop = toolbox.population(n=sizePopulation)\n",
    "fitnesses = list(toolbox.map(toolbox.evaluate, pop))\n",
    "for ind, fit in zip(pop, fitnesses):\n",
    "    ind.fitness.values = fit    "
   ]
  },
  {
   "cell_type": "code",
   "execution_count": 16,
   "metadata": {},
   "outputs": [
    {
     "name": "stdout",
     "output_type": "stream",
     "text": [
      " 20\n",
      "Gen 20, Best individual is [96, 6.787860072849839, 70, 29, 16], (0.6003153496766103,) in 370.9587540626526 s\n"
     ]
    },
    {
     "data": {
      "image/png": "[encoded data removed]",
      "text/plain": [
       "<Figure size 432x288 with 1 Axes>"
      ]
     },
     "metadata": {
      "needs_background": "light"
     },
     "output_type": "display_data"
    }
   ],
   "source": [
    "import time\n",
    "\n",
    "data = []\n",
    "\n",
    "g = 0\n",
    "start=time.time()\n",
    "while g < numberIteration:\n",
    "    g = g+1\n",
    "    print(\"\\r\", g, end='')\n",
    "    offspring = toolbox.select(pop, len(pop))\n",
    "    offspring = list(map(toolbox.clone, offspring))\n",
    "    listElitism = []\n",
    "    for x in range(0, numberElitism):\n",
    "        listElitism.append(tools.selBest(pop, 1)[0])\n",
    "\n",
    "    for child1, child2 in zip(offspring[::2], offspring[1::2]):\n",
    "        if random.random() < probabilityCrossover:\n",
    "            toolbox.mate(child1, child2)\n",
    "            del child1.fitness.values\n",
    "            del child2.fitness.values\n",
    "            \n",
    "    # for mutant in offspring:\n",
    "    #     if random.random() < probabilityMutation:\n",
    "    #         toolbox.mutate(mutant)\n",
    "    #         del mutant.fitness.values\n",
    "    \n",
    "    invalid_ind = [ind for ind in offspring if not ind.fitness.valid]\n",
    "    fitnesses = toolbox.map(toolbox.evaluate, invalid_ind)\n",
    "    for ind, fit in zip(invalid_ind, fitnesses):\n",
    "        ind.fitness.values = fit\n",
    "    pop[:] = offspring + listElitism\n",
    "    fits = [ind.fitness.values[0] for ind in pop]\n",
    "\n",
    "    row = []\n",
    "    length = len(pop)\n",
    "    mean = sum(fits) / length\n",
    "    sum2 = sum(x * x for x in fits)\n",
    "    std = abs(sum2 / length - mean ** 2) ** 0.5\n",
    "    row.append(min(fits))\n",
    "    row.append(mean)\n",
    "    row.append(std)\n",
    "    data.append(row)\n",
    "    best_ind = tools.selBest(pop, 1)[0]\n",
    "    \n",
    "end = time.time()\n",
    "print(\"\\nGen %s, Best individual is %s, %s in %s s\" % (g, best_ind, best_ind.fitness.values,(end-start)))\n",
    "\n",
    "data = np.array(data)\n",
    "plt.plot(data[:,0], label='max')\n",
    "plt.plot(data[:,1], label='mean')\n",
    "plt.plot(data[:,2], label='std')\n",
    "plt.legend()\n",
    "plt.show()"
   ]
  },
  {
   "cell_type": "markdown",
   "metadata": {},
   "source": [
    "### Maksymalizacja recall"
   ]
  },
  {
   "cell_type": "code",
   "execution_count": 56,
   "metadata": {},
   "outputs": [
    {
     "name": "stdout",
     "output_type": "stream",
     "text": [
      "0.9407894736842105 0.6564885496183206\n"
     ]
    },
    {
     "name": "stderr",
     "output_type": "stream",
     "text": [
      "/usr/lib/python3.10/site-packages/sklearn/utils/deprecation.py:87: FutureWarning: Function plot_confusion_matrix is deprecated; Function `plot_confusion_matrix` is deprecated in 1.0 and will be removed in 1.2. Use one of the class methods: ConfusionMatrixDisplay.from_predictions or ConfusionMatrixDisplay.from_estimator.\n",
      "  warnings.warn(msg, category=FutureWarning)\n"
     ]
    },
    {
     "data": {
      "image/png": "[encoded data removed]",
      "text/plain": [
       "<Figure size 432x288 with 2 Axes>"
      ]
     },
     "metadata": {
      "needs_background": "light"
     },
     "output_type": "display_data"
    }
   ],
   "source": [
    "# populacja=20 iteracji=20\n",
    "rf = RandomForestClassifier(n_estimators=75, max_depth=8.384724325391684, min_samples_split=73, min_samples_leaf=35, max_leaf_nodes=19) \n",
    "rf.fit(reduced, y_train)\n",
    "\n",
    "X_test_reduced = sfs.transform(X_test)\n",
    "y_pred = rf.predict(X_test_reduced)\n",
    "\n",
    "print( metrics.accuracy_score(y_test, y_pred), metrics.f1_score(y_test, y_pred) )\n",
    "metrics.plot_confusion_matrix(rf, X_test_reduced, y_test)\n",
    "plt.show()"
   ]
  },
  {
   "cell_type": "markdown",
   "metadata": {},
   "source": [
    "### Maksymalizacja fB score, B=2\n",
    "B - ile razy ważniejszy jest recall od precision"
   ]
  },
  {
   "cell_type": "code",
   "execution_count": 18,
   "metadata": {},
   "outputs": [
    {
     "name": "stdout",
     "output_type": "stream",
     "text": [
      "0.9407894736842105 0.6590909090909091\n"
     ]
    },
    {
     "name": "stderr",
     "output_type": "stream",
     "text": [
      "/usr/lib/python3.10/site-packages/sklearn/utils/deprecation.py:87: FutureWarning: Function plot_confusion_matrix is deprecated; Function `plot_confusion_matrix` is deprecated in 1.0 and will be removed in 1.2. Use one of the class methods: ConfusionMatrixDisplay.from_predictions or ConfusionMatrixDisplay.from_estimator.\n",
      "  warnings.warn(msg, category=FutureWarning)\n"
     ]
    },
    {
     "data": {
      "image/png": "[encoded data removed]",
      "text/plain": [
       "<Figure size 432x288 with 2 Axes>"
      ]
     },
     "metadata": {
      "needs_background": "light"
     },
     "output_type": "display_data"
    }
   ],
   "source": [
    "# populacja=20, iteracji=20\n",
    "rf = RandomForestClassifier(n_estimators=96, max_depth=6.787860072849839, min_samples_split=70, min_samples_leaf=29, max_leaf_nodes=16) \n",
    "rf.fit(reduced, y_train)\n",
    "\n",
    "X_test_reduced = sfs.transform(X_test)\n",
    "y_pred = rf.predict(X_test_reduced)\n",
    "\n",
    "print( metrics.accuracy_score(y_test, y_pred), metrics.f1_score(y_test, y_pred) )\n",
    "metrics.plot_confusion_matrix(rf, X_test_reduced, y_test)\n",
    "plt.show()"
   ]
  },
  {
   "cell_type": "code",
   "execution_count": null,
   "metadata": {},
   "outputs": [],
   "source": []
  }
 ],
 "metadata": {
  "kernelspec": {
   "display_name": "Python 3 (ipykernel)",
   "language": "python",
   "name": "python3"
  },
  "language_info": {
   "codemirror_mode": {
    "name": "ipython",
    "version": 3
   },
   "file_extension": ".py",
   "mimetype": "text/x-python",
   "name": "python",
   "nbconvert_exporter": "python",
   "pygments_lexer": "ipython3",
   "version": "3.10.1"
  },
  "latex_envs": {
   "LaTeX_envs_menu_present": true,
   "autoclose": false,
   "autocomplete": true,
   "bibliofile": "biblio.bib",
   "cite_by": "apalike",
   "current_citInitial": 1,
   "eqLabelWithNumbers": true,
   "eqNumInitial": 1,
   "hotkeys": {
    "equation": "Ctrl-E",
    "itemize": "Ctrl-I"
   },
   "labels_anchors": false,
   "latex_user_defs": false,
   "report_style_numbering": false,
   "user_envs_cfg": false
  }
 },
 "nbformat": 4,
 "nbformat_minor": 4
}
